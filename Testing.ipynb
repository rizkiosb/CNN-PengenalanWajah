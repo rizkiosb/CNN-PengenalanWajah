{
 "cells": [
  {
   "cell_type": "code",
   "execution_count": 5,
   "id": "0999a961-bfd4-4811-86e6-41823ec076ae",
   "metadata": {},
   "outputs": [
    {
     "name": "stdout",
     "output_type": "stream",
     "text": [
      "WARNING:tensorflow:5 out of the last 9 calls to <function Model.make_predict_function.<locals>.predict_function at 0x0000026D1EEECF70> triggered tf.function retracing. Tracing is expensive and the excessive number of tracings could be due to (1) creating @tf.function repeatedly in a loop, (2) passing tensors with different shapes, (3) passing Python objects instead of tensors. For (1), please define your @tf.function outside of the loop. For (2), @tf.function has experimental_relax_shapes=True option that relaxes argument shapes that can avoid unnecessary retracing. For (3), please refer to https://www.tensorflow.org/tutorials/customization/performance#python_or_tensor_args and https://www.tensorflow.org/api_docs/python/tf/function for  more details.\n"
     ]
    }
   ],
   "source": [
    "import cv2\n",
    "from keras.models import load_model\n",
    "from keras.preprocessing.image import img_to_array\n",
    "import numpy as np\n",
    "\n",
    "def getClassName(classNo):\n",
    "    if classNo == [0]: return 'Aisya'\n",
    "    elif classNo == [1]: return 'Ayah'\n",
    "    elif classNo == [2]: return 'Ibu'\n",
    "    elif classNo == [3]: return 'Rama'\n",
    "    elif classNo == [4]: return 'Rizki'\n",
    "font =cv2.FONT_HERSHEY_TRIPLEX  \n",
    "classifier = load_model(\"./models/model.h5\")\n",
    "simpan = './Hasil_testing/'\n",
    "img = cv2.imread('Test/Rama/IMG_20210402_164928.jpg')\n",
    "FileBaru = 'rama_undefined_2.jpg'\n",
    "gray = cv2.cvtColor(img, cv2.COLOR_BGR2GRAY)\n",
    "cv_gray = cv2.resize(img,(250,250),interpolation=cv2.INTER_AREA)\n",
    "roi = cv_gray.astype('float')/255.0\n",
    "roi = img_to_array(roi)\n",
    "roi = np.expand_dims(roi,axis=0)\n",
    "prediksi = classifier.predict(roi)\n",
    "ClassIndex = classifier.predict_classes(roi)\n",
    "probabilityValue = np.amax(prediksi)\n",
    "label_position = (20,35)\n",
    "threshold = 0.50\n",
    "\n",
    "if probabilityValue > threshold:\n",
    "    cv2.putText(img,\"Prediksi : \",(20,35),font,0.5,(0,0,255),1,cv2.LINE_AA)\n",
    "    cv2.putText(img,\"Probabilitas : \",(20,55),font,0.5,(0,0,255),1,cv2.LINE_AA)\n",
    "    cv2.putText(img, str(getClassName(ClassIndex)),(110,35),font, 0.5,(255,255,255),1,cv2.LINE_AA)\n",
    "    cv2.putText(img, str(round(probabilityValue*100,2))+\"%\",(140,55),font, 0.5,(255,255,255),1,cv2.LINE_AA)\n",
    "    cv2.imwrite(simpan+FileBaru, img)\n",
    "else :\n",
    "    cv2.putText(img,'NOT DETECTION',(50,40),font,0.5,(0,0,255),1,cv2.LINE_AA)\n",
    "    cv2.imwrite(simpan+FileBaru, img)\n",
    "cv2.imshow('Deteksi Wajah', img)\n",
    "cv2.waitKey(0)\n",
    "cv2.destroyAllWindows()"
   ]
  },
  {
   "cell_type": "code",
   "execution_count": null,
   "id": "c40cdfb5-67c9-4986-a246-54baa900591c",
   "metadata": {},
   "outputs": [],
   "source": []
  },
  {
   "cell_type": "code",
   "execution_count": null,
   "id": "b80d6955-7d16-4c5b-a5ec-1d122c556345",
   "metadata": {},
   "outputs": [],
   "source": []
  }
 ],
 "metadata": {
  "kernelspec": {
   "display_name": "Python 3",
   "language": "python",
   "name": "python3"
  },
  "language_info": {
   "codemirror_mode": {
    "name": "ipython",
    "version": 3
   },
   "file_extension": ".py",
   "mimetype": "text/x-python",
   "name": "python",
   "nbconvert_exporter": "python",
   "pygments_lexer": "ipython3",
   "version": "3.8.8"
  }
 },
 "nbformat": 4,
 "nbformat_minor": 5
}
